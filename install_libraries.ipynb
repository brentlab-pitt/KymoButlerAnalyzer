{
 "cells": [
  {
   "cell_type": "markdown",
   "metadata": {},
   "source": [
    "# Install necessary python libraries\n",
    "\n",
    "Only needs to be done once"
   ]
  },
  {
   "cell_type": "code",
   "execution_count": null,
   "metadata": {},
   "outputs": [],
   "source": [
    "import subprocess\n",
    "import sys\n",
    "\n",
    "def install(package):\n",
    "    subprocess.check_call([sys.executable, \"-m\", \"pip\", \"install\", package])\n",
    "\n",
    "# List of packages to be installed\n",
    "packages = [\n",
    "    \"pandas\",\n",
    "    \"numpy\",\n",
    "    \"scipy\",\n",
    "    \"seaborn\",\n",
    "    \"matplotlib\",\n",
    "    \"Pillow\",\n",
    "    \"tk\"\n",
    "]\n",
    "\n",
    "# Custom package (assuming it's available via pip or a custom installation method)\n",
    "custom_package = \"KymoButlerAnalyzerFunctions\"\n",
    "\n",
    "# Install each package\n",
    "for package in packages:\n",
    "    install(package)\n",
    "\n",
    "# Install custom package if necessary\n",
    "try:\n",
    "    install(custom_package)\n",
    "except Exception as e:\n",
    "    print(f\"Could not install {custom_package}: {e}\")\n",
    "\n",
    "print(\"All specified packages have been installed.\")\n"
   ]
  }
 ],
 "metadata": {
  "language_info": {
   "name": "python"
  }
 },
 "nbformat": 4,
 "nbformat_minor": 2
}
